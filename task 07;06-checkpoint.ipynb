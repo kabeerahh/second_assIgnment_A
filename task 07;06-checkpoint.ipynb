{
 "cells": [
  {
   "cell_type": "code",
   "execution_count": 18,
   "id": "d58d306e",
   "metadata": {},
   "outputs": [],
   "source": [
    "x = 4\n",
    "y = \"kabirat\"\n",
    "z = 6.5\n",
    "X = True\n",
    " "
   ]
  },
  {
   "cell_type": "code",
   "execution_count": 3,
   "id": "120d3a60",
   "metadata": {},
   "outputs": [
    {
     "data": {
      "text/plain": [
       "'a'"
      ]
     },
     "execution_count": 3,
     "metadata": {},
     "output_type": "execute_result"
    }
   ],
   "source": [
    "y[1]"
   ]
  },
  {
   "cell_type": "code",
   "execution_count": 4,
   "id": "71b0efb7",
   "metadata": {},
   "outputs": [
    {
     "data": {
      "text/plain": [
       "'r'"
      ]
     },
     "execution_count": 4,
     "metadata": {},
     "output_type": "execute_result"
    }
   ],
   "source": [
    "y[4]"
   ]
  },
  {
   "cell_type": "code",
   "execution_count": 8,
   "id": "82709ebf",
   "metadata": {},
   "outputs": [],
   "source": [
    "#create an empty list\n",
    "my_list = []"
   ]
  },
  {
   "cell_type": "code",
   "execution_count": 10,
   "id": "ad32e9c7",
   "metadata": {},
   "outputs": [],
   "source": [
    "my_list.append(y)"
   ]
  },
  {
   "cell_type": "code",
   "execution_count": 11,
   "id": "57cb0654",
   "metadata": {},
   "outputs": [
    {
     "data": {
      "text/plain": [
       "['kabirat']"
      ]
     },
     "execution_count": 11,
     "metadata": {},
     "output_type": "execute_result"
    }
   ],
   "source": [
    "my_list"
   ]
  },
  {
   "cell_type": "code",
   "execution_count": 14,
   "id": "96048796",
   "metadata": {},
   "outputs": [],
   "source": [
    "New = x + z"
   ]
  },
  {
   "cell_type": "code",
   "execution_count": 15,
   "id": "9bd1b645",
   "metadata": {},
   "outputs": [
    {
     "name": "stdout",
     "output_type": "stream",
     "text": [
      "10.5\n"
     ]
    }
   ],
   "source": [
    "print (New)"
   ]
  },
  {
   "cell_type": "code",
   "execution_count": 16,
   "id": "e74ce6eb",
   "metadata": {},
   "outputs": [],
   "source": [
    "my_list.append(New)"
   ]
  },
  {
   "cell_type": "code",
   "execution_count": 17,
   "id": "eec1cdf8",
   "metadata": {},
   "outputs": [
    {
     "data": {
      "text/plain": [
       "['kabirat', 10.5]"
      ]
     },
     "execution_count": 17,
     "metadata": {},
     "output_type": "execute_result"
    }
   ],
   "source": [
    "my_list"
   ]
  },
  {
   "cell_type": "code",
   "execution_count": 19,
   "id": "267c1328",
   "metadata": {},
   "outputs": [
    {
     "data": {
      "text/plain": [
       "1"
      ]
     },
     "execution_count": 19,
     "metadata": {},
     "output_type": "execute_result"
    }
   ],
   "source": [
    "int(X)"
   ]
  },
  {
   "cell_type": "code",
   "execution_count": 20,
   "id": "1fffd636",
   "metadata": {},
   "outputs": [],
   "source": [
    "my_list.append(X)"
   ]
  },
  {
   "cell_type": "code",
   "execution_count": 21,
   "id": "ed76e15c",
   "metadata": {},
   "outputs": [
    {
     "data": {
      "text/plain": [
       "3"
      ]
     },
     "execution_count": 21,
     "metadata": {},
     "output_type": "execute_result"
    }
   ],
   "source": [
    "len(my_list)"
   ]
  },
  {
   "cell_type": "code",
   "execution_count": 22,
   "id": "1fcf410d",
   "metadata": {},
   "outputs": [],
   "source": [
    "west = ['osun', 'ogun', 'ekiti', 'ondo', 'sokoto']\n",
    "north = ['kano', 'yola', 'jalingo', 'maiduguri']\n",
    "east = ['enugu', 'abia', 'delta', 'rivers']"
   ]
  },
  {
   "cell_type": "code",
   "execution_count": 23,
   "id": "b0c8c3b8",
   "metadata": {},
   "outputs": [
    {
     "data": {
      "text/plain": [
       "'sokoto'"
      ]
     },
     "execution_count": 23,
     "metadata": {},
     "output_type": "execute_result"
    }
   ],
   "source": [
    "west[4]"
   ]
  },
  {
   "cell_type": "code",
   "execution_count": 25,
   "id": "3e05d71d",
   "metadata": {},
   "outputs": [],
   "source": [
    "west[4] = 'lagos'"
   ]
  },
  {
   "cell_type": "code",
   "execution_count": 26,
   "id": "c6c94a5e",
   "metadata": {},
   "outputs": [
    {
     "data": {
      "text/plain": [
       "['osun', 'ogun', 'ekiti', 'ondo', 'lagos']"
      ]
     },
     "execution_count": 26,
     "metadata": {},
     "output_type": "execute_result"
    }
   ],
   "source": [
    "west"
   ]
  },
  {
   "cell_type": "code",
   "execution_count": 27,
   "id": "2adabf61",
   "metadata": {},
   "outputs": [],
   "source": [
    "dic =[]"
   ]
  },
  {
   "cell_type": "code",
   "execution_count": 28,
   "id": "405c2ae7",
   "metadata": {},
   "outputs": [
    {
     "data": {
      "text/plain": [
       "('osun', 'ogun', 'ekiti', 'ondo', 'lagos')"
      ]
     },
     "execution_count": 28,
     "metadata": {},
     "output_type": "execute_result"
    }
   ],
   "source": [
    "tuple(west)"
   ]
  },
  {
   "cell_type": "code",
   "execution_count": 30,
   "id": "bd03e3cd",
   "metadata": {},
   "outputs": [
    {
     "data": {
      "text/plain": [
       "('kano', 'yola', 'jalingo', 'maiduguri')"
      ]
     },
     "execution_count": 30,
     "metadata": {},
     "output_type": "execute_result"
    }
   ],
   "source": [
    "tuple(north)\n"
   ]
  },
  {
   "cell_type": "code",
   "execution_count": 31,
   "id": "91532ccc",
   "metadata": {},
   "outputs": [
    {
     "data": {
      "text/plain": [
       "('enugu', 'abia', 'delta', 'rivers')"
      ]
     },
     "execution_count": 31,
     "metadata": {},
     "output_type": "execute_result"
    }
   ],
   "source": [
    "tuple(east)"
   ]
  },
  {
   "cell_type": "code",
   "execution_count": 33,
   "id": "c5c5bded",
   "metadata": {},
   "outputs": [],
   "source": [
    "#create a dictionary called \"Nigeria\" and append the three lists above to it\n",
    "# study and copy out keywords that are peculiar to python"
   ]
  },
  {
   "cell_type": "code",
   "execution_count": 42,
   "id": "5dc7d1d2",
   "metadata": {},
   "outputs": [],
   "source": [
    "Nigeria = {}"
   ]
  },
  {
   "cell_type": "code",
   "execution_count": 43,
   "id": "dcaa0010",
   "metadata": {},
   "outputs": [],
   "source": [
    "Nigeria[\"west\"] = west\n",
    "Nigeria[\"north\"] = north\n",
    "Nigeria[\"east\"] = east"
   ]
  },
  {
   "cell_type": "code",
   "execution_count": 44,
   "id": "edee83f0",
   "metadata": {},
   "outputs": [
    {
     "data": {
      "text/plain": [
       "{'west': ['osun', 'ogun', 'ekiti', 'ondo', 'lagos'],\n",
       " 'north': ['kano', 'yola', 'jalingo', 'maiduguri'],\n",
       " 'east': ['enugu', 'abia', 'delta', 'rivers']}"
      ]
     },
     "execution_count": 44,
     "metadata": {},
     "output_type": "execute_result"
    }
   ],
   "source": [
    "Nigeria"
   ]
  },
  {
   "cell_type": "code",
   "execution_count": 45,
   "id": "cc8acf3e",
   "metadata": {},
   "outputs": [
    {
     "name": "stdout",
     "output_type": "stream",
     "text": [
      "{'west': ['osun', 'ogun', 'ekiti', 'ondo', 'lagos'], 'north': ['kano', 'yola', 'jalingo', 'maiduguri'], 'east': ['enugu', 'abia', 'delta', 'rivers']}\n"
     ]
    }
   ],
   "source": [
    "print(Nigeria)"
   ]
  },
  {
   "cell_type": "code",
   "execution_count": null,
   "id": "071383cc",
   "metadata": {},
   "outputs": [],
   "source": []
  }
 ],
 "metadata": {
  "kernelspec": {
   "display_name": "Python 3 (ipykernel)",
   "language": "python",
   "name": "python3"
  },
  "language_info": {
   "codemirror_mode": {
    "name": "ipython",
    "version": 3
   },
   "file_extension": ".py",
   "mimetype": "text/x-python",
   "name": "python",
   "nbconvert_exporter": "python",
   "pygments_lexer": "ipython3",
   "version": "3.11.5"
  }
 },
 "nbformat": 4,
 "nbformat_minor": 5
}
