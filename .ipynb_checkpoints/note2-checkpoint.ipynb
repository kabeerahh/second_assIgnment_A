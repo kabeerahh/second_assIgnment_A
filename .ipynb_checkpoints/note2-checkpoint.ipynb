{
 "cells": [
  {
   "cell_type": "markdown",
   "id": "5d0a6f58",
   "metadata": {},
   "source": [
    "# python Numbers"
   ]
  },
  {
   "cell_type": "code",
   "execution_count": 4,
   "id": "807f9988",
   "metadata": {},
   "outputs": [
    {
     "name": "stdout",
     "output_type": "stream",
     "text": [
      "<class 'int'>\n",
      "<class 'int'>\n",
      "<class 'float'>\n",
      "<class 'complex'>\n",
      "<class 'int'>\n"
     ]
    }
   ],
   "source": [
    "x = 1\n",
    "y = 35656222554887711\n",
    "z = 2.8\n",
    "X = 1j\n",
    "Y = -32555\n",
    "print(type(x))\n",
    "print(type(y))\n",
    "print(type(z))\n",
    "print(type(X))\n",
    "print(type(Y))\n"
   ]
  },
  {
   "cell_type": "code",
   "execution_count": 5,
   "id": "48c56f99",
   "metadata": {},
   "outputs": [
    {
     "name": "stdout",
     "output_type": "stream",
     "text": [
      "<class 'float'>\n",
      "<class 'float'>\n",
      "<class 'float'>\n"
     ]
    }
   ],
   "source": [
    "x = 35e3\n",
    "y = 12E4\n",
    "z = -87.7e100\n",
    "print(type(x))\n",
    "print(type(y))\n",
    "print(type(z))\n"
   ]
  },
  {
   "cell_type": "code",
   "execution_count": 6,
   "id": "275e182f",
   "metadata": {},
   "outputs": [
    {
     "name": "stdout",
     "output_type": "stream",
     "text": [
      "<class 'complex'>\n",
      "<class 'complex'>\n",
      "<class 'complex'>\n"
     ]
    }
   ],
   "source": [
    "x = 3+5j\n",
    "y = 5j\n",
    "z = -5j\n",
    "print(type(x))\n",
    "print(type(y))\n",
    "print(type(z))\n"
   ]
  },
  {
   "cell_type": "markdown",
   "id": "e093908c",
   "metadata": {},
   "source": [
    "# type conversion"
   ]
  },
  {
   "cell_type": "code",
   "execution_count": 7,
   "id": "c5e27b30",
   "metadata": {},
   "outputs": [
    {
     "name": "stdout",
     "output_type": "stream",
     "text": [
      "1.0\n",
      "2\n",
      "(1+0j)\n",
      "<class 'float'>\n",
      "<class 'int'>\n",
      "<class 'complex'>\n"
     ]
    }
   ],
   "source": [
    "x = 1 #int\n",
    "y = 2.8 #float\n",
    "z = 1j #complex\n",
    "#convert from int to float:\n",
    "a = float(x)\n",
    "#convert from float to int:\n",
    "b = int(y)\n",
    "#convert from int to complex:\n",
    "c = complex(x)\n",
    "print(a)\n",
    "print(b)\n",
    "print(c)\n",
    "\n",
    "print(type(a))\n",
    "print(type(b))\n",
    "print(type(c))\n",
    "\n"
   ]
  },
  {
   "cell_type": "markdown",
   "id": "c3f1e72f",
   "metadata": {},
   "source": [
    "# python casting"
   ]
  },
  {
   "cell_type": "code",
   "execution_count": 8,
   "id": "765495e3",
   "metadata": {},
   "outputs": [
    {
     "name": "stdout",
     "output_type": "stream",
     "text": [
      "1\n",
      "2\n",
      "3\n",
      "1.0\n",
      "2.8\n",
      "3.0\n",
      "s1\n",
      "2\n",
      "3.0\n"
     ]
    }
   ],
   "source": [
    "x = int(1)     # x will be 1\n",
    "y = int(2.8)   # y will be 2\n",
    "z = int(\"3\")   # z will be 3\n",
    "a = float(1)   # a will be 1.0\n",
    "b = float(2.8) # b will be 2.8\n",
    "c = float(\"3\") # c will be 3.0\n",
    "A = str(\"s1\")  # A will be 's1'\n",
    "B = str(2)     # B will be '2'\n",
    "C = str(3.0)   # C will be '3.0'\n",
    "\n",
    "\n",
    "print(x)\n",
    "print(y)\n",
    "print(z)\n",
    "print(a)\n",
    "print(b)\n",
    "print(c)\n",
    "print(A)\n",
    "print(B)\n",
    "print(C)\n",
    "\n"
   ]
  },
  {
   "cell_type": "markdown",
   "id": "6d10107a",
   "metadata": {},
   "source": [
    "# python strings\n",
    "\n"
   ]
  },
  {
   "cell_type": "code",
   "execution_count": 9,
   "id": "6a71bb2a",
   "metadata": {},
   "outputs": [
    {
     "name": "stdout",
     "output_type": "stream",
     "text": [
      "Data Science\n",
      "Data Science\n"
     ]
    }
   ],
   "source": [
    "#strings in python are surrounded by either single qoutation marks, or double qoutation marks.\n",
    "print ('Data Science')\n",
    "print ('Data Science')"
   ]
  },
  {
   "cell_type": "code",
   "execution_count": 10,
   "id": "24663fdb",
   "metadata": {},
   "outputs": [
    {
     "name": "stdout",
     "output_type": "stream",
     "text": [
      "it's alright\n",
      "He is called \"Johnny\"\n",
      "He is called 'Johnny'\n"
     ]
    }
   ],
   "source": [
    "#quotes inside quotes\n",
    "print (\"it's alright\")\n",
    "print ('He is called \"Johnny\"')\n",
    "print (\"He is called 'Johnny'\")"
   ]
  },
  {
   "cell_type": "code",
   "execution_count": 11,
   "id": "b4da12c1",
   "metadata": {},
   "outputs": [
    {
     "name": "stdout",
     "output_type": "stream",
     "text": [
      "hello\n"
     ]
    }
   ],
   "source": [
    "#assign strings toa variable\n",
    "a = \"hello\"\n",
    "print(a)"
   ]
  },
  {
   "cell_type": "code",
   "execution_count": 12,
   "id": "26823c02",
   "metadata": {},
   "outputs": [
    {
     "name": "stdout",
     "output_type": "stream",
     "text": [
      "lorem ipsum dolor sit amet,\n",
      "consectetur adipiscing elit\n",
      "sed do eiusmod tempor incididunt ut labore et dolore magna aliqua.\n"
     ]
    }
   ],
   "source": [
    "#Multiline Strings\n",
    "#you can assign multiline stri ng to a variable by using three qoutes:\n",
    "\n",
    "a = \"\"\"lorem ipsum dolor sit amet,\n",
    "consectetur adipiscing elit\n",
    "sed do eiusmod tempor incididunt ut labore et dolore magna aliqua.\"\"\"\n",
    "print(a)"
   ]
  },
  {
   "cell_type": "code",
   "execution_count": 13,
   "id": "431dab09",
   "metadata": {},
   "outputs": [
    {
     "name": "stdout",
     "output_type": "stream",
     "text": [
      "o\n"
     ]
    }
   ],
   "source": [
    "#Strings are Arrays\n",
    "a = \"hello, world!\"\n",
    "print(a[4])"
   ]
  },
  {
   "cell_type": "code",
   "execution_count": 14,
   "id": "363344af",
   "metadata": {},
   "outputs": [
    {
     "name": "stdout",
     "output_type": "stream",
     "text": [
      "b\n",
      "a\n",
      "n\n",
      "a\n",
      "n\n",
      "a\n"
     ]
    }
   ],
   "source": [
    "#looping through strings\n",
    "for x in \"banana\":\n",
    "    print(x)"
   ]
  },
  {
   "cell_type": "code",
   "execution_count": 15,
   "id": "d9d3652e",
   "metadata": {},
   "outputs": [
    {
     "name": "stdout",
     "output_type": "stream",
     "text": [
      "20\n"
     ]
    }
   ],
   "source": [
    "#string Length\n",
    "a = \"very pretty kabeerah\"\n",
    "print(len(a))"
   ]
  },
  {
   "cell_type": "markdown",
   "id": "3c6f41ec",
   "metadata": {},
   "source": [
    "# The new line of code starts here"
   ]
  },
  {
   "cell_type": "markdown",
   "id": "e6627bc0",
   "metadata": {},
   "source": [
    "# check string"
   ]
  },
  {
   "cell_type": "code",
   "execution_count": 1,
   "id": "fc916eb5",
   "metadata": {},
   "outputs": [
    {
     "name": "stdout",
     "output_type": "stream",
     "text": [
      "True\n"
     ]
    }
   ],
   "source": [
    "txt = \"the best things in life are free!\"\n",
    "print(\"free\" in txt)"
   ]
  },
  {
   "cell_type": "code",
   "execution_count": 2,
   "id": "f6e8a143",
   "metadata": {},
   "outputs": [
    {
     "name": "stdout",
     "output_type": "stream",
     "text": [
      "yes, 'free' is present.\n"
     ]
    }
   ],
   "source": [
    "txt = \"the best things in life are free!\"\n",
    "if \"free\" in txt:\n",
    "    print(\"yes, 'free' is present.\")"
   ]
  },
  {
   "cell_type": "code",
   "execution_count": 3,
   "id": "6611a178",
   "metadata": {},
   "outputs": [
    {
     "name": "stdout",
     "output_type": "stream",
     "text": [
      "True\n"
     ]
    }
   ],
   "source": [
    "txt = \"the best things in life are free!\"\n",
    "print(\"expensive\" not in txt)"
   ]
  },
  {
   "cell_type": "code",
   "execution_count": 4,
   "id": "31f96bb6",
   "metadata": {},
   "outputs": [
    {
     "name": "stdout",
     "output_type": "stream",
     "text": [
      "no, 'expensive' is not present.\n"
     ]
    }
   ],
   "source": [
    "txt = \"the best things in life are free!\"\n",
    "if \"expensive\"not in txt:\n",
    "    print(\"no, 'expensive' is not present.\")"
   ]
  },
  {
   "cell_type": "markdown",
   "id": "d1bde7e1",
   "metadata": {},
   "source": [
    "# slicing strings"
   ]
  },
  {
   "cell_type": "code",
   "execution_count": 5,
   "id": "9946f568",
   "metadata": {},
   "outputs": [
    {
     "name": "stdout",
     "output_type": "stream",
     "text": [
      "llo\n"
     ]
    }
   ],
   "source": [
    "b = \"hello, World!\"\n",
    "print(b[2:5])"
   ]
  },
  {
   "cell_type": "code",
   "execution_count": 6,
   "id": "bc349f82",
   "metadata": {},
   "outputs": [
    {
     "name": "stdout",
     "output_type": "stream",
     "text": [
      "hello\n"
     ]
    }
   ],
   "source": [
    "#slicing from the start\n",
    "b = \"hello, World!\"\n",
    "print(b[:5])"
   ]
  },
  {
   "cell_type": "code",
   "execution_count": 7,
   "id": "bd0b9b6c",
   "metadata": {},
   "outputs": [
    {
     "name": "stdout",
     "output_type": "stream",
     "text": [
      "llo, World!\n"
     ]
    }
   ],
   "source": [
    "#slicing to the end\n",
    "b = \"hello, World!\"\n",
    "print(b[2:])"
   ]
  },
  {
   "cell_type": "code",
   "execution_count": 9,
   "id": "a803bb2b",
   "metadata": {},
   "outputs": [
    {
     "name": "stdout",
     "output_type": "stream",
     "text": [
      "orl\n"
     ]
    }
   ],
   "source": [
    "#negative indexing\n",
    "b = \"hello, World!\"\n",
    "print(b[-5:-2])"
   ]
  },
  {
   "cell_type": "markdown",
   "id": "08f60563",
   "metadata": {},
   "source": [
    "# modify strings"
   ]
  },
  {
   "cell_type": "code",
   "execution_count": 11,
   "id": "3e6a7d61",
   "metadata": {},
   "outputs": [
    {
     "name": "stdout",
     "output_type": "stream",
     "text": [
      "HELLO, WORLD!\n"
     ]
    }
   ],
   "source": [
    "#upper case\n",
    "b = \"hello, World!\"\n",
    "print(b.upper())"
   ]
  },
  {
   "cell_type": "code",
   "execution_count": 13,
   "id": "a9437e29",
   "metadata": {},
   "outputs": [
    {
     "name": "stdout",
     "output_type": "stream",
     "text": [
      "hello, world!\n"
     ]
    }
   ],
   "source": [
    "b = \"Hello, World!\"\n",
    "print(b.lower())"
   ]
  },
  {
   "cell_type": "markdown",
   "id": "54d3d26f",
   "metadata": {},
   "source": [
    "# removing whitespace"
   ]
  },
  {
   "cell_type": "code",
   "execution_count": 14,
   "id": "070aac9d",
   "metadata": {},
   "outputs": [
    {
     "name": "stdout",
     "output_type": "stream",
     "text": [
      "Hello, World!\n"
     ]
    }
   ],
   "source": [
    "a = \" Hello, World! \"\n",
    "print (a.strip())"
   ]
  },
  {
   "cell_type": "markdown",
   "id": "08c92ad1",
   "metadata": {},
   "source": [
    "# replace string"
   ]
  },
  {
   "cell_type": "code",
   "execution_count": 15,
   "id": "f43ec54b",
   "metadata": {},
   "outputs": [
    {
     "name": "stdout",
     "output_type": "stream",
     "text": [
      "Jello, World!\n"
     ]
    }
   ],
   "source": [
    "x = \"Hello, World!\"\n",
    "print(x.replace(\"H\", \"J\"))"
   ]
  },
  {
   "cell_type": "code",
   "execution_count": 16,
   "id": "39844b36",
   "metadata": {},
   "outputs": [
    {
     "name": "stdout",
     "output_type": "stream",
     "text": [
      "[' Hello', ' World! ']\n"
     ]
    }
   ],
   "source": [
    "#split string\n",
    "b = \"hello, World!\"\n",
    "print(a.split(\",\"))"
   ]
  },
  {
   "cell_type": "markdown",
   "id": "1ae7757d",
   "metadata": {},
   "source": [
    "# string concatenation"
   ]
  },
  {
   "cell_type": "code",
   "execution_count": 17,
   "id": "f8b5c025",
   "metadata": {},
   "outputs": [
    {
     "name": "stdout",
     "output_type": "stream",
     "text": [
      "HelloWorld\n"
     ]
    }
   ],
   "source": [
    "a = \"Hello\"\n",
    "b = \"World\"\n",
    "c = a + b\n",
    "print (c)"
   ]
  },
  {
   "cell_type": "code",
   "execution_count": 19,
   "id": "8f53254e",
   "metadata": {},
   "outputs": [
    {
     "name": "stdout",
     "output_type": "stream",
     "text": [
      "Hello World\n"
     ]
    }
   ],
   "source": [
    "a = \"Hello\"\n",
    "b = \"World\"\n",
    "c = a + \" \" + b\n",
    "print (c)"
   ]
  },
  {
   "cell_type": "code",
   "execution_count": null,
   "id": "899201bf",
   "metadata": {},
   "outputs": [],
   "source": []
  }
 ],
 "metadata": {
  "kernelspec": {
   "display_name": "Python 3 (ipykernel)",
   "language": "python",
   "name": "python3"
  },
  "language_info": {
   "codemirror_mode": {
    "name": "ipython",
    "version": 3
   },
   "file_extension": ".py",
   "mimetype": "text/x-python",
   "name": "python",
   "nbconvert_exporter": "python",
   "pygments_lexer": "ipython3",
   "version": "3.11.5"
  }
 },
 "nbformat": 4,
 "nbformat_minor": 5
}
