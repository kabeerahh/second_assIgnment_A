{
 "cells": [
  {
   "cell_type": "markdown",
   "id": "5c43695e",
   "metadata": {},
   "source": [
    "# execute python syntax"
   ]
  },
  {
   "cell_type": "code",
   "execution_count": 5,
   "id": "4e6ba2f9",
   "metadata": {},
   "outputs": [
    {
     "name": "stdout",
     "output_type": "stream",
     "text": [
      "hello, Kabeerah!\n"
     ]
    }
   ],
   "source": [
    "print(\"hello, Kabeerah!\")\n"
   ]
  },
  {
   "cell_type": "markdown",
   "id": "f756a931",
   "metadata": {},
   "source": [
    "# python indentation"
   ]
  },
  {
   "cell_type": "code",
   "execution_count": 8,
   "id": "45d25339",
   "metadata": {},
   "outputs": [
    {
     "name": "stdout",
     "output_type": "stream",
     "text": [
      "five is greater than two!\n"
     ]
    }
   ],
   "source": [
    "if 5>2:\n",
    " print(\"five is greater than two!\")"
   ]
  },
  {
   "cell_type": "markdown",
   "id": "cf7e4374",
   "metadata": {},
   "source": [
    "# python variables"
   ]
  },
  {
   "cell_type": "code",
   "execution_count": 10,
   "id": "1cd4b668",
   "metadata": {},
   "outputs": [
    {
     "name": "stdout",
     "output_type": "stream",
     "text": [
      "5\n",
      "Hello, World!\n"
     ]
    }
   ],
   "source": [
    "x = 5\n",
    "y = \"Hello, World!\"\n",
    "print (x)\n",
    "print (y)"
   ]
  },
  {
   "cell_type": "code",
   "execution_count": 11,
   "id": "42e1ee82",
   "metadata": {},
   "outputs": [
    {
     "name": "stdout",
     "output_type": "stream",
     "text": [
      "John\n",
      "John\n",
      "John\n",
      "John\n",
      "John\n",
      "john\n"
     ]
    }
   ],
   "source": [
    "myvar = \"John\"\n",
    "my_var = \"John\"\n",
    "_my_var = \"John\"\n",
    "myVar = \"John\"\n",
    "MYVAR = \"John\"\n",
    "myVar2 = \"john\"\n",
    "\n",
    "print (myvar)\n",
    "print(my_var)\n",
    "print(_my_var)\n",
    "print(myVar)\n",
    "print(MYVAR)\n",
    "print(myVar2)\n"
   ]
  },
  {
   "cell_type": "markdown",
   "id": "2ac76d0a",
   "metadata": {},
   "source": [
    "# python variables assign multiple values and one value to multiple variables"
   ]
  },
  {
   "cell_type": "code",
   "execution_count": 12,
   "id": "f6aa3e6a",
   "metadata": {},
   "outputs": [
    {
     "name": "stdout",
     "output_type": "stream",
     "text": [
      "orange\n",
      "banana\n",
      "cherry\n"
     ]
    }
   ],
   "source": [
    "x, y, z =\"orange\", \"banana\", \"cherry\"\n",
    "print(x)\n",
    "print(y)\n",
    "print(z)"
   ]
  },
  {
   "cell_type": "code",
   "execution_count": 14,
   "id": "25204afa",
   "metadata": {},
   "outputs": [
    {
     "name": "stdout",
     "output_type": "stream",
     "text": [
      "orange\n",
      "orange\n",
      "orange\n"
     ]
    }
   ],
   "source": [
    "x = y =z = \"orange\"\n",
    "print(x)\n",
    "print(y)\n",
    "print(z)"
   ]
  },
  {
   "cell_type": "markdown",
   "id": "89a08bf9",
   "metadata": {},
   "source": [
    "# unpack a collection"
   ]
  },
  {
   "cell_type": "code",
   "execution_count": 15,
   "id": "b2d5b9d2",
   "metadata": {},
   "outputs": [
    {
     "name": "stdout",
     "output_type": "stream",
     "text": [
      "apple\n",
      "banana\n",
      "cherry\n"
     ]
    }
   ],
   "source": [
    "fruits = [\"apple\", \"banana\", \"cherry\"]\n",
    "x, y, z = fruits\n",
    "print(x)\n",
    "print(y)\n",
    "print(z)"
   ]
  },
  {
   "cell_type": "markdown",
   "id": "88796434",
   "metadata": {},
   "source": [
    "# output variables"
   ]
  },
  {
   "cell_type": "code",
   "execution_count": 16,
   "id": "028e3b95",
   "metadata": {},
   "outputs": [
    {
     "name": "stdout",
     "output_type": "stream",
     "text": [
      "python is awesome\n"
     ]
    }
   ],
   "source": [
    "x = \"python\"\n",
    "y = \"is\"\n",
    "z = \"awesome\"\n",
    "print(x, y,z)"
   ]
  },
  {
   "cell_type": "code",
   "execution_count": 19,
   "id": "0db26ef2",
   "metadata": {},
   "outputs": [
    {
     "name": "stdout",
     "output_type": "stream",
     "text": [
      "python is awesome \n"
     ]
    }
   ],
   "source": [
    "x = \"python \"\n",
    "y = \"is \"\n",
    "z = \"awesome \"\n",
    "print(x  +  y  + z)"
   ]
  },
  {
   "cell_type": "code",
   "execution_count": 20,
   "id": "e1e3266a",
   "metadata": {},
   "outputs": [
    {
     "name": "stdout",
     "output_type": "stream",
     "text": [
      "15\n"
     ]
    }
   ],
   "source": [
    "x = 5\n",
    "y = 10\n",
    "print(x + y)"
   ]
  },
  {
   "cell_type": "code",
   "execution_count": null,
   "id": "d81755a4",
   "metadata": {},
   "outputs": [],
   "source": []
  }
 ],
 "metadata": {
  "kernelspec": {
   "display_name": "Python 3 (ipykernel)",
   "language": "python",
   "name": "python3"
  },
  "language_info": {
   "codemirror_mode": {
    "name": "ipython",
    "version": 3
   },
   "file_extension": ".py",
   "mimetype": "text/x-python",
   "name": "python",
   "nbconvert_exporter": "python",
   "pygments_lexer": "ipython3",
   "version": "3.11.5"
  }
 },
 "nbformat": 4,
 "nbformat_minor": 5
}
